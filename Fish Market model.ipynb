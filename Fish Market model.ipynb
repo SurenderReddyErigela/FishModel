{
 "cells": [
  {
   "cell_type": "code",
   "execution_count": 1,
   "metadata": {},
   "outputs": [
    {
     "name": "stdout",
     "output_type": "stream",
     "text": [
      "<class 'pandas.core.frame.DataFrame'>\n",
      "RangeIndex: 159 entries, 0 to 158\n",
      "Data columns (total 7 columns):\n",
      " #   Column   Non-Null Count  Dtype  \n",
      "---  ------   --------------  -----  \n",
      " 0   Species  159 non-null    object \n",
      " 1   Weight   159 non-null    float64\n",
      " 2   Length1  159 non-null    float64\n",
      " 3   Length2  159 non-null    float64\n",
      " 4   Length3  159 non-null    float64\n",
      " 5   Height   159 non-null    float64\n",
      " 6   Width    159 non-null    float64\n",
      "dtypes: float64(6), object(1)\n",
      "memory usage: 8.8+ KB\n"
     ]
    },
    {
     "data": {
      "text/plain": [
       "(  Species  Weight  Length1  Length2  Length3   Height   Width\n",
       " 0   Bream   242.0     23.2     25.4     30.0  11.5200  4.0200\n",
       " 1   Bream   290.0     24.0     26.3     31.2  12.4800  4.3056\n",
       " 2   Bream   340.0     23.9     26.5     31.1  12.3778  4.6961\n",
       " 3   Bream   363.0     26.3     29.0     33.5  12.7300  4.4555\n",
       " 4   Bream   430.0     26.5     29.0     34.0  12.4440  5.1340,\n",
       " None)"
      ]
     },
     "execution_count": 1,
     "metadata": {},
     "output_type": "execute_result"
    }
   ],
   "source": [
    "import pandas as pd\n",
    "\n",
    "# Load the dataset\n",
    "\n",
    "fish_data = pd.read_csv('Fish.csv')\n",
    "\n",
    "# Display the first few rows of the dataset to understand its structure\n",
    "fish_data.head(), fish_data.info()\n"
   ]
  },
  {
   "cell_type": "code",
   "execution_count": 2,
   "metadata": {},
   "outputs": [
    {
     "data": {
      "text/plain": [
       "4557.917397503473"
      ]
     },
     "execution_count": 2,
     "metadata": {},
     "output_type": "execute_result"
    }
   ],
   "source": [
    "from sklearn.model_selection import train_test_split\n",
    "from sklearn.preprocessing import OneHotEncoder\n",
    "from sklearn.compose import ColumnTransformer\n",
    "from sklearn.pipeline import Pipeline\n",
    "from sklearn.ensemble import RandomForestRegressor\n",
    "from sklearn.metrics import mean_squared_error\n",
    "\n",
    "# Preparing the data\n",
    "X = fish_data.drop('Weight', axis=1)\n",
    "y = fish_data['Weight']\n",
    "\n",
    "# Encoding categorical data\n",
    "categorical_features = ['Species']\n",
    "one_hot = OneHotEncoder()\n",
    "transformer = ColumnTransformer([('one_hot', one_hot, categorical_features)], remainder='passthrough')\n",
    "\n",
    "# Split the dataset into training and testing sets\n",
    "X_train, X_test, y_train, y_test = train_test_split(X, y, test_size=0.2, random_state=42)\n",
    "\n",
    "# Creating a pipeline\n",
    "regression_model = Pipeline(steps=[('transformer', transformer),\n",
    "                                   ('model', RandomForestRegressor(n_estimators=100, random_state=42))])\n",
    "\n",
    "# Training the model\n",
    "regression_model.fit(X_train, y_train)\n",
    "\n",
    "# Evaluating the model\n",
    "y_pred = regression_model.predict(X_test)\n",
    "mse = mean_squared_error(y_test, y_pred)\n",
    "\n",
    "mse\n"
   ]
  },
  {
   "cell_type": "code",
   "execution_count": 3,
   "metadata": {},
   "outputs": [
    {
     "data": {
      "text/plain": [
       "'fish_model.pkl'"
      ]
     },
     "execution_count": 3,
     "metadata": {},
     "output_type": "execute_result"
    }
   ],
   "source": [
    "import pickle\n",
    "\n",
    "# Save the model to a file\n",
    "model_file_path = 'fish_model.pkl'\n",
    "with open(model_file_path, 'wb') as file:\n",
    "    pickle.dump(regression_model, file)\n",
    "\n",
    "model_file_path\n"
   ]
  }
 ],
 "metadata": {
  "kernelspec": {
   "display_name": "Python 3",
   "language": "python",
   "name": "python3"
  },
  "language_info": {
   "codemirror_mode": {
    "name": "ipython",
    "version": 3
   },
   "file_extension": ".py",
   "mimetype": "text/x-python",
   "name": "python",
   "nbconvert_exporter": "python",
   "pygments_lexer": "ipython3",
   "version": "3.11.5"
  }
 },
 "nbformat": 4,
 "nbformat_minor": 2
}
